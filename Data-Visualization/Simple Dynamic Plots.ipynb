{
 "cells": [
  {
   "cell_type": "markdown",
   "metadata": {
    "collapsed": true
   },
   "source": [
    "# Install required Packages"
   ]
  },
  {
   "cell_type": "code",
   "execution_count": 1,
   "metadata": {},
   "outputs": [
    {
     "name": "stdout",
     "output_type": "stream",
     "text": [
      "Requirement already satisfied: requests in g:\\1. work\\1. suhas\\1. teaching assistance\\iot-teaser ta\\batch-4\\exercise-2\\om2m-rest-apis-\\iiith_env\\lib\\site-packages (2.27.1)\n",
      "Requirement already satisfied: charset-normalizer~=2.0.0; python_version >= \"3\" in g:\\1. work\\1. suhas\\1. teaching assistance\\iot-teaser ta\\batch-4\\exercise-2\\om2m-rest-apis-\\iiith_env\\lib\\site-packages (from requests) (2.0.10)\n",
      "Requirement already satisfied: idna<4,>=2.5; python_version >= \"3\" in g:\\1. work\\1. suhas\\1. teaching assistance\\iot-teaser ta\\batch-4\\exercise-2\\om2m-rest-apis-\\iiith_env\\lib\\site-packages (from requests) (3.3)\n",
      "Requirement already satisfied: urllib3<1.27,>=1.21.1 in g:\\1. work\\1. suhas\\1. teaching assistance\\iot-teaser ta\\batch-4\\exercise-2\\om2m-rest-apis-\\iiith_env\\lib\\site-packages (from requests) (1.26.8)\n",
      "Requirement already satisfied: certifi>=2017.4.17 in g:\\1. work\\1. suhas\\1. teaching assistance\\iot-teaser ta\\batch-4\\exercise-2\\om2m-rest-apis-\\iiith_env\\lib\\site-packages (from requests) (2021.10.8)\n",
      "Note: you may need to restart the kernel to use updated packages.\n"
     ]
    },
    {
     "name": "stderr",
     "output_type": "stream",
     "text": [
      "WARNING: You are using pip version 20.2.3; however, version 22.0.4 is available.\n",
      "You should consider upgrading via the 'g:\\1. work\\1. suhas\\1. teaching assistance\\iot-teaser ta\\batch-4\\exercise-2\\om2m-rest-apis-\\iiith_env\\scripts\\python.exe -m pip install --upgrade pip' command.\n"
     ]
    }
   ],
   "source": [
    "#pip install requests"
   ]
  },
  {
   "cell_type": "code",
   "execution_count": null,
   "metadata": {},
   "outputs": [],
   "source": [
    "#pip install matplotlib"
   ]
  },
  {
   "cell_type": "markdown",
   "metadata": {},
   "source": [
    "# Import Required packages"
   ]
  },
  {
   "cell_type": "code",
   "execution_count": 2,
   "metadata": {},
   "outputs": [],
   "source": [
    "import requests"
   ]
  },
  {
   "cell_type": "code",
   "execution_count": 3,
   "metadata": {},
   "outputs": [],
   "source": [
    "import matplotlib.pyplot as plt"
   ]
  },
  {
   "cell_type": "code",
   "execution_count": 4,
   "metadata": {},
   "outputs": [],
   "source": [
    "import time"
   ]
  },
  {
   "cell_type": "code",
   "execution_count": 5,
   "metadata": {},
   "outputs": [],
   "source": [
    "from IPython.display import clear_output"
   ]
  },
  {
   "cell_type": "markdown",
   "metadata": {},
   "source": [
    "# Get Data"
   ]
  },
  {
   "cell_type": "code",
   "execution_count": 6,
   "metadata": {},
   "outputs": [
    {
     "name": "stdout",
     "output_type": "stream",
     "text": [
      "{\r\n",
      "   \"m2m:cnt\" : {\r\n",
      "      \"rn\" : \"Data\",\r\n",
      "      \"ty\" : 3,\r\n",
      "      \"ri\" : \"/in-cse/cnt-686532010\",\r\n",
      "      \"pi\" : \"/in-cse/cnt-437265393\",\r\n",
      "      \"ct\" : \"20220507T183102\",\r\n",
      "      \"lt\" : \"20220507T183102\",\r\n",
      "      \"lbl\" : [ \"Label-1\", \"Label-2\" ],\r\n",
      "      \"acpi\" : [ \"/in-cse/acp-219771625\" ],\r\n",
      "      \"et\" : \"20230507T183102\",\r\n",
      "      \"st\" : 1320,\r\n",
      "      \"mni\" : 5,\r\n",
      "      \"mbs\" : 10000,\r\n",
      "      \"mia\" : 0,\r\n",
      "      \"cni\" : 5,\r\n",
      "      \"cbs\" : 103,\r\n",
      "      \"m2m:cin\" : [ {\r\n",
      "         \"rn\" : \"cin_261\",\r\n",
      "         \"ty\" : 4,\r\n",
      "         \"ri\" : \"/in-cse/cin-127862151\",\r\n",
      "         \"pi\" : \"/in-cse/cnt-686532010\",\r\n",
      "         \"ct\" : \"20220507T194311\",\r\n",
      "         \"lt\" : \"20220507T194311\",\r\n",
      "         \"st\" : 0,\r\n",
      "         \"cnf\" : \"text\",\r\n",
      "         \"cs\" : 20,\r\n",
      "         \"con\" : \"[44.00, 4.00, 40.00]\"\r\n",
      "      }, {\r\n",
      "         \"rn\" : \"cin_277427195\",\r\n",
      "         \"ty\" : 4,\r\n",
      "         \"ri\" : \"/in-cse/cin-277427195\",\r\n",
      "         \"pi\" : \"/in-cse/cnt-686532010\",\r\n",
      "         \"ct\" : \"20220507T194314\",\r\n",
      "         \"lt\" : \"20220507T194314\",\r\n",
      "         \"lbl\" : [ \"Node-1\" ],\r\n",
      "         \"st\" : 0,\r\n",
      "         \"cnf\" : \"text\",\r\n",
      "         \"cs\" : 20,\r\n",
      "         \"con\" : \"[1651932794, 1, 167]\"\r\n",
      "      }, {\r\n",
      "         \"rn\" : \"cin_262\",\r\n",
      "         \"ty\" : 4,\r\n",
      "         \"ri\" : \"/in-cse/cin-918247861\",\r\n",
      "         \"pi\" : \"/in-cse/cnt-686532010\",\r\n",
      "         \"ct\" : \"20220507T194315\",\r\n",
      "         \"lt\" : \"20220507T194315\",\r\n",
      "         \"st\" : 0,\r\n",
      "         \"cnf\" : \"text\",\r\n",
      "         \"cs\" : 22,\r\n",
      "         \"con\" : \"[119.00, 18.00, 30.00]\"\r\n",
      "      }, {\r\n",
      "         \"rn\" : \"cin_556381670\",\r\n",
      "         \"ty\" : 4,\r\n",
      "         \"ri\" : \"/in-cse/cin-556381670\",\r\n",
      "         \"pi\" : \"/in-cse/cnt-686532010\",\r\n",
      "         \"ct\" : \"20220507T194317\",\r\n",
      "         \"lt\" : \"20220507T194317\",\r\n",
      "         \"lbl\" : [ \"Node-1\" ],\r\n",
      "         \"st\" : 0,\r\n",
      "         \"cnf\" : \"text\",\r\n",
      "         \"cs\" : 20,\r\n",
      "         \"con\" : \"[1651932797, 1, 105]\"\r\n",
      "      }, {\r\n",
      "         \"rn\" : \"cin_263\",\r\n",
      "         \"ty\" : 4,\r\n",
      "         \"ri\" : \"/in-cse/cin-872064785\",\r\n",
      "         \"pi\" : \"/in-cse/cnt-686532010\",\r\n",
      "         \"ct\" : \"20220507T194318\",\r\n",
      "         \"lt\" : \"20220507T194318\",\r\n",
      "         \"st\" : 0,\r\n",
      "         \"cnf\" : \"text\",\r\n",
      "         \"cs\" : 21,\r\n",
      "         \"con\" : \"[23.00, 14.00, 47.00]\"\r\n",
      "      } ],\r\n",
      "      \"ol\" : \"/in-cse/in-name/AE-TEST/Node-1/Data/ol\",\r\n",
      "      \"la\" : \"/in-cse/in-name/AE-TEST/Node-1/Data/la\"\r\n",
      "   }\r\n",
      "}\n"
     ]
    }
   ],
   "source": [
    "url = \"http://127.0.0.1:5089/~/in-cse/in-name/AE-TEST/Node-1/Data?rcn=4\"\n",
    "\n",
    "payload={}\n",
    "headers = {\n",
    "  'X-M2M-Origin': 'admin:admin',\n",
    "  'Accept': 'application/json'\n",
    "}\n",
    "\n",
    "response = requests.request(\"GET\", url, headers=headers, data=payload)\n",
    "\n",
    "print(response.text)"
   ]
  },
  {
   "cell_type": "code",
   "execution_count": 9,
   "metadata": {},
   "outputs": [
    {
     "data": {
      "text/plain": [
       "str"
      ]
     },
     "execution_count": 9,
     "metadata": {},
     "output_type": "execute_result"
    }
   ],
   "source": [
    "type(response.text)"
   ]
  },
  {
   "cell_type": "code",
   "execution_count": 10,
   "metadata": {},
   "outputs": [
    {
     "data": {
      "text/plain": [
       "2279"
      ]
     },
     "execution_count": 10,
     "metadata": {},
     "output_type": "execute_result"
    }
   ],
   "source": [
    "len(response.text)"
   ]
  },
  {
   "cell_type": "markdown",
   "metadata": {},
   "source": [
    "# Reformat Data"
   ]
  },
  {
   "cell_type": "code",
   "execution_count": 11,
   "metadata": {},
   "outputs": [],
   "source": [
    "data = eval(response.text)"
   ]
  },
  {
   "cell_type": "code",
   "execution_count": 12,
   "metadata": {},
   "outputs": [
    {
     "data": {
      "text/plain": [
       "dict"
      ]
     },
     "execution_count": 12,
     "metadata": {},
     "output_type": "execute_result"
    }
   ],
   "source": [
    "type(data)"
   ]
  },
  {
   "cell_type": "code",
   "execution_count": 13,
   "metadata": {},
   "outputs": [
    {
     "data": {
      "text/plain": [
       "dict_keys(['m2m:cnt'])"
      ]
     },
     "execution_count": 13,
     "metadata": {},
     "output_type": "execute_result"
    }
   ],
   "source": [
    "data.keys()"
   ]
  },
  {
   "cell_type": "code",
   "execution_count": 14,
   "metadata": {},
   "outputs": [],
   "source": [
    "data_cons_120 = data[\"m2m:cnt\"][\"m2m:cin\"]"
   ]
  },
  {
   "cell_type": "code",
   "execution_count": 15,
   "metadata": {},
   "outputs": [
    {
     "data": {
      "text/plain": [
       "[{'rn': 'cin_261',\n",
       "  'ty': 4,\n",
       "  'ri': '/in-cse/cin-127862151',\n",
       "  'pi': '/in-cse/cnt-686532010',\n",
       "  'ct': '20220507T194311',\n",
       "  'lt': '20220507T194311',\n",
       "  'st': 0,\n",
       "  'cnf': 'text',\n",
       "  'cs': 20,\n",
       "  'con': '[44.00, 4.00, 40.00]'},\n",
       " {'rn': 'cin_277427195',\n",
       "  'ty': 4,\n",
       "  'ri': '/in-cse/cin-277427195',\n",
       "  'pi': '/in-cse/cnt-686532010',\n",
       "  'ct': '20220507T194314',\n",
       "  'lt': '20220507T194314',\n",
       "  'lbl': ['Node-1'],\n",
       "  'st': 0,\n",
       "  'cnf': 'text',\n",
       "  'cs': 20,\n",
       "  'con': '[1651932794, 1, 167]'},\n",
       " {'rn': 'cin_262',\n",
       "  'ty': 4,\n",
       "  'ri': '/in-cse/cin-918247861',\n",
       "  'pi': '/in-cse/cnt-686532010',\n",
       "  'ct': '20220507T194315',\n",
       "  'lt': '20220507T194315',\n",
       "  'st': 0,\n",
       "  'cnf': 'text',\n",
       "  'cs': 22,\n",
       "  'con': '[119.00, 18.00, 30.00]'},\n",
       " {'rn': 'cin_556381670',\n",
       "  'ty': 4,\n",
       "  'ri': '/in-cse/cin-556381670',\n",
       "  'pi': '/in-cse/cnt-686532010',\n",
       "  'ct': '20220507T194317',\n",
       "  'lt': '20220507T194317',\n",
       "  'lbl': ['Node-1'],\n",
       "  'st': 0,\n",
       "  'cnf': 'text',\n",
       "  'cs': 20,\n",
       "  'con': '[1651932797, 1, 105]'},\n",
       " {'rn': 'cin_263',\n",
       "  'ty': 4,\n",
       "  'ri': '/in-cse/cin-872064785',\n",
       "  'pi': '/in-cse/cnt-686532010',\n",
       "  'ct': '20220507T194318',\n",
       "  'lt': '20220507T194318',\n",
       "  'st': 0,\n",
       "  'cnf': 'text',\n",
       "  'cs': 21,\n",
       "  'con': '[23.00, 14.00, 47.00]'}]"
      ]
     },
     "execution_count": 15,
     "metadata": {},
     "output_type": "execute_result"
    }
   ],
   "source": [
    "data_cons_120"
   ]
  },
  {
   "cell_type": "code",
   "execution_count": 16,
   "metadata": {},
   "outputs": [
    {
     "data": {
      "text/plain": [
       "5"
      ]
     },
     "execution_count": 16,
     "metadata": {},
     "output_type": "execute_result"
    }
   ],
   "source": [
    "len(data_cons_120)"
   ]
  },
  {
   "cell_type": "code",
   "execution_count": 17,
   "metadata": {},
   "outputs": [],
   "source": [
    "con_0 = data_cons_120[0][\"con\"]"
   ]
  },
  {
   "cell_type": "code",
   "execution_count": 20,
   "metadata": {},
   "outputs": [],
   "source": [
    "param_0_list = []\n",
    "param_1_list = []\n",
    "for content in data_cons_120:\n",
    "    _temp = eval(content[\"con\"])\n",
    "    param_0_list += [_temp[1]]\n",
    "    param_1_list += [_temp[2]]\n"
   ]
  },
  {
   "cell_type": "markdown",
   "metadata": {},
   "source": [
    "# Plot the Data"
   ]
  },
  {
   "cell_type": "code",
   "execution_count": 21,
   "metadata": {},
   "outputs": [
    {
     "data": {
      "text/plain": [
       "[4.0, 1, 18.0, 1, 14.0]"
      ]
     },
     "execution_count": 21,
     "metadata": {},
     "output_type": "execute_result"
    }
   ],
   "source": [
    "param_0_list"
   ]
  },
  {
   "cell_type": "code",
   "execution_count": 22,
   "metadata": {},
   "outputs": [
    {
     "data": {
      "image/png": "[encoded data removed]",
      "text/plain": [
       "<Figure size 432x288 with 1 Axes>"
      ]
     },
     "metadata": {
      "needs_background": "light"
     },
     "output_type": "display_data"
    }
   ],
   "source": [
    "# plot lines\n",
    "plt.plot(param_0_list, label = \"line 1\")\n",
    "plt.plot(param_1_list, label = \"line 2\")\n",
    "plt.legend()\n",
    "plt.show()"
   ]
  },
  {
   "cell_type": "markdown",
   "metadata": {},
   "source": [
    "# Pipeline"
   ]
  },
  {
   "cell_type": "code",
   "execution_count": null,
   "metadata": {},
   "outputs": [],
   "source": []
  },
  {
   "cell_type": "code",
   "execution_count": 23,
   "metadata": {},
   "outputs": [],
   "source": [
    "def pipeline():\n",
    "    url = \"http://127.0.0.1:5089/~/in-cse/in-name/AE-TEST/Node-1/Data?rcn=4\"\n",
    "\n",
    "    payload={}\n",
    "    headers = {\n",
    "      'X-M2M-Origin': 'admin:admin',\n",
    "      'Accept': 'application/json'\n",
    "    }\n",
    "\n",
    "    response = requests.request(\"GET\", url, headers=headers, data=payload)\n",
    "    data = eval(response.text)\n",
    "    data_cons_120 = data[\"m2m:cnt\"][\"m2m:cin\"]\n",
    "    param_0_list = []\n",
    "    param_1_list = []\n",
    "    for content in data_cons_120:\n",
    "        _temp = eval(content[\"con\"])\n",
    "        param_0_list += [_temp[0]]\n",
    "        param_1_list += [_temp[1]]\n",
    "    plt.plot(param_0_list, label = \"Temperature\")\n",
    "    plt.plot(param_1_list, label = \"Humidity\")\n",
    "    plt.legend()\n",
    "    plt.show()\n",
    "    time.sleep(1)  \n"
   ]
  },
  {
   "cell_type": "code",
   "execution_count": null,
   "metadata": {},
   "outputs": [
    {
     "data": {
      "image/png": "[encoded data removed]",
      "text/plain": [
       "<Figure size 432x288 with 1 Axes>"
      ]
     },
     "metadata": {
      "needs_background": "light"
     },
     "output_type": "display_data"
    }
   ],
   "source": [
    "while True:\n",
    "    clear_output(wait=True)\n",
    "    pipeline()\n",
    "    "
   ]
  },
  {
   "cell_type": "markdown",
   "metadata": {},
   "source": [
    "# Pipeline Subscription"
   ]
  },
  {
   "cell_type": "code",
   "execution_count": null,
   "metadata": {},
   "outputs": [],
   "source": []
  }
 ],
 "metadata": {
  "kernelspec": {
   "display_name": "Python 3 (ipykernel)",
   "language": "python",
   "name": "python3"
  },
  "language_info": {
   "codemirror_mode": {
    "name": "ipython",
    "version": 3
   },
   "file_extension": ".py",
   "mimetype": "text/x-python",
   "name": "python",
   "nbconvert_exporter": "python",
   "pygments_lexer": "ipython3",
   "version": "3.9.2"
  }
 },
 "nbformat": 4,
 "nbformat_minor": 1
}
