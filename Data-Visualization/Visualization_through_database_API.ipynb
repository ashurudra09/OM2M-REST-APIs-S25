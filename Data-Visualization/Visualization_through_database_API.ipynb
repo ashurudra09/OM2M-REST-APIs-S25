{
 "cells": [
  {
   "cell_type": "markdown",
   "id": "1a31ce4a",
   "metadata": {},
   "source": [
    "# Install required Packages"
   ]
  },
  {
   "cell_type": "code",
   "execution_count": null,
   "id": "a095312d",
   "metadata": {},
   "outputs": [],
   "source": [
    "#pip install requests"
   ]
  },
  {
   "cell_type": "code",
   "execution_count": null,
   "id": "84e30a25",
   "metadata": {},
   "outputs": [],
   "source": [
    "#pip install matplotlib"
   ]
  },
  {
   "cell_type": "code",
   "execution_count": null,
   "id": "79959a43",
   "metadata": {},
   "outputs": [],
   "source": [
    "#pip install pandas"
   ]
  },
  {
   "cell_type": "code",
   "execution_count": null,
   "id": "ff555889",
   "metadata": {},
   "outputs": [],
   "source": [
    "#pip install numpy"
   ]
  },
  {
   "cell_type": "markdown",
   "id": "6e53387d",
   "metadata": {},
   "source": [
    "# Import Required packages"
   ]
  },
  {
   "cell_type": "code",
   "execution_count": null,
   "id": "485c30bf",
   "metadata": {},
   "outputs": [],
   "source": [
    "import os"
   ]
  },
  {
   "cell_type": "code",
   "execution_count": null,
   "id": "8b2b3f07",
   "metadata": {},
   "outputs": [],
   "source": [
    "import time"
   ]
  },
  {
   "cell_type": "code",
   "execution_count": null,
   "id": "04fbad3c",
   "metadata": {},
   "outputs": [],
   "source": [
    "import random"
   ]
  },
  {
   "cell_type": "code",
   "execution_count": null,
   "id": "a02c3b6a",
   "metadata": {},
   "outputs": [],
   "source": [
    "import threading"
   ]
  },
  {
   "cell_type": "code",
   "execution_count": null,
   "id": "de25d9f9",
   "metadata": {},
   "outputs": [],
   "source": [
    "import requests"
   ]
  },
  {
   "cell_type": "code",
   "execution_count": null,
   "id": "72947985",
   "metadata": {},
   "outputs": [],
   "source": [
    "import pandas as pd"
   ]
  },
  {
   "cell_type": "code",
   "execution_count": null,
   "id": "46501f93",
   "metadata": {},
   "outputs": [],
   "source": [
    "import numpy as np"
   ]
  },
  {
   "cell_type": "code",
   "execution_count": null,
   "id": "1e6b9c6a",
   "metadata": {},
   "outputs": [],
   "source": [
    "import matplotlib.pyplot as plt"
   ]
  },
  {
   "cell_type": "code",
   "execution_count": null,
   "id": "46fecca7",
   "metadata": {},
   "outputs": [],
   "source": [
    "from pathlib import Path"
   ]
  },
  {
   "cell_type": "code",
   "execution_count": null,
   "id": "03c96f86",
   "metadata": {},
   "outputs": [],
   "source": [
    "from IPython.display import clear_output"
   ]
  },
  {
   "cell_type": "markdown",
   "id": "99f07d1a",
   "metadata": {},
   "source": [
    "# Get Data"
   ]
  },
  {
   "cell_type": "code",
   "execution_count": null,
   "id": "dfac6931",
   "metadata": {},
   "outputs": [],
   "source": [
    "def get_data():\n",
    "    url = \"http://127.0.0.1:5091/ngsi-ld/v1/entities/Node-1\"\n",
    "    response = requests.request(\"GET\", url)\n",
    "    return response.text"
   ]
  },
  {
   "cell_type": "markdown",
   "id": "d28628c0",
   "metadata": {},
   "source": [
    "# Generate a dataframe from the data"
   ]
  },
  {
   "cell_type": "code",
   "execution_count": null,
   "id": "d502eae5",
   "metadata": {},
   "outputs": [],
   "source": [
    "def generate_dataframe():\n",
    "    _data_from_warehouse = eval(get_data())\n",
    "    _data_results = _data_from_warehouse[\"results\"]\n",
    "    df = pd.DataFrame.from_dict(_data_results)\n",
    "    return df"
   ]
  },
  {
   "cell_type": "markdown",
   "id": "6219a9d8",
   "metadata": {},
   "source": [
    "# Convert the data in dataframe to correct format"
   ]
  },
  {
   "cell_type": "code",
   "execution_count": null,
   "id": "210b557d",
   "metadata": {},
   "outputs": [],
   "source": [
    "def handle_datatypes():\n",
    "    df = generate_dataframe()\n",
    "    _columns = list(df.columns)\n",
    "    for column in _columns:\n",
    "        if column == \"node_id\":\n",
    "            continue\n",
    "        df[column] = df[column].astype('float')\n",
    "    return df"
   ]
  },
  {
   "cell_type": "markdown",
   "id": "a71ce1c9",
   "metadata": {},
   "source": [
    "# Plot the graphs"
   ]
  },
  {
   "cell_type": "code",
   "execution_count": null,
   "id": "ca5c2fe6",
   "metadata": {},
   "outputs": [],
   "source": [
    "def plot_graphs():\n",
    "    global color\n",
    "    df = handle_datatypes()\n",
    "    fig = plt.figure(figsize=(16,48))\n",
    "    _columns = list(df.columns)\n",
    "    for i in range(2, len(_columns)):\n",
    "        plot_id = 921 + i\n",
    "        ax = fig.add_subplot(plot_id)\n",
    "        _current_column = _columns[i]\n",
    "        _temp_list = df[_current_column].tolist()\n",
    "        \n",
    "        try:\n",
    "            _temp_list_new = _temp_list[0:120]\n",
    "        except:\n",
    "            _temp_list_new = _temp_list\n",
    "        if color.get(_current_column) is None:\n",
    "            r = random.random()\n",
    "            b = random.random()\n",
    "            g = random.random()\n",
    "            color[_current_column] = (r, g, b)\n",
    "            \n",
    "        \n",
    "        ax.plot(_temp_list_new, label=_current_column, color=color[_current_column])\n",
    "        ax.ylabel = _current_column\n",
    "        ax.set_title(_current_column)\n",
    "        #ax.legend()\n",
    "    plt.legend()\n",
    "    plt.show()"
   ]
  },
  {
   "cell_type": "code",
   "execution_count": null,
   "id": "25edc309",
   "metadata": {},
   "outputs": [],
   "source": [
    "def live():\n",
    "    while True:\n",
    "        time.sleep(1)\n",
    "        clear_output(wait=True)\n",
    "        try:\n",
    "            plot_graphs()\n",
    "        except Exception as _visual_exception:\n",
    "            print(_visual_exception)\n",
    "            pass"
   ]
  },
  {
   "cell_type": "code",
   "execution_count": null,
   "id": "52cf2efa",
   "metadata": {},
   "outputs": [],
   "source": [
    "global color\n",
    "color = {}\n",
    "live()"
   ]
  }
 ],
 "metadata": {
  "kernelspec": {
   "display_name": "Python 3 (ipykernel)",
   "language": "python",
   "name": "python3"
  },
  "language_info": {
   "codemirror_mode": {
    "name": "ipython",
    "version": 3
   },
   "file_extension": ".py",
   "mimetype": "text/x-python",
   "name": "python",
   "nbconvert_exporter": "python",
   "pygments_lexer": "ipython3",
   "version": "3.9.2"
  }
 },
 "nbformat": 4,
 "nbformat_minor": 5
}
