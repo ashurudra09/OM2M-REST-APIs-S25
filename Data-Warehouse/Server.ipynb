{
 "cells": [
  {
   "cell_type": "markdown",
   "metadata": {
    "collapsed": true
   },
   "source": [
    "# Installing Required Packages"
   ]
  },
  {
   "cell_type": "code",
   "execution_count": null,
   "metadata": {},
   "outputs": [],
   "source": [
    "# pip install requests"
   ]
  },
  {
   "cell_type": "code",
   "execution_count": null,
   "metadata": {},
   "outputs": [],
   "source": [
    "# pip install ipyparallel"
   ]
  },
  {
   "cell_type": "markdown",
   "metadata": {},
   "source": [
    "# Importing the packages\n"
   ]
  },
  {
   "cell_type": "code",
   "execution_count": null,
   "metadata": {},
   "outputs": [],
   "source": [
    "import os"
   ]
  },
  {
   "cell_type": "code",
   "execution_count": null,
   "metadata": {},
   "outputs": [],
   "source": [
    "import logging"
   ]
  },
  {
   "cell_type": "code",
   "execution_count": null,
   "metadata": {},
   "outputs": [],
   "source": [
    "import requests"
   ]
  },
  {
   "cell_type": "code",
   "execution_count": null,
   "metadata": {},
   "outputs": [],
   "source": [
    "import sqlite3 as _dbsql"
   ]
  },
  {
   "cell_type": "code",
   "execution_count": null,
   "metadata": {},
   "outputs": [],
   "source": [
    "from pathlib import Path"
   ]
  },
  {
   "cell_type": "code",
   "execution_count": null,
   "metadata": {},
   "outputs": [],
   "source": [
    "from http.server import BaseHTTPRequestHandler, HTTPServer"
   ]
  },
  {
   "cell_type": "markdown",
   "metadata": {},
   "source": [
    "# Execution Constants and Variables"
   ]
  },
  {
   "cell_type": "code",
   "execution_count": null,
   "metadata": {},
   "outputs": [],
   "source": [
    "_db_root = \"Database\""
   ]
  },
  {
   "cell_type": "code",
   "execution_count": null,
   "metadata": {},
   "outputs": [],
   "source": [
    "_dir = Path().resolve()"
   ]
  },
  {
   "cell_type": "code",
   "execution_count": null,
   "metadata": {},
   "outputs": [],
   "source": [
    "_log = logging.getLogger(__name__)\n",
    "_log.setLevel(logging.DEBUG)\n",
    "iohandler = logging.StreamHandler()\n",
    "iohandler.setLevel(logging.DEBUG)\n",
    "formatter = logging.Formatter('%(asctime)s - %(name)s - %(levelname)s - %(message)s')\n",
    "iohandler.setFormatter(formatter)\n",
    "_log.addHandler(iohandler)\n",
    "logging.basicConfig(filename=\"execution_log.log\", filemode='w')"
   ]
  },
  {
   "cell_type": "markdown",
   "metadata": {},
   "source": [
    "# Changing path to current directory (Execute only once)"
   ]
  },
  {
   "cell_type": "code",
   "execution_count": null,
   "metadata": {},
   "outputs": [],
   "source": [
    "try:\n",
    "    os.chdir(_dir)\n",
    "    _db_root_check = os.path.isdir(_db_root)\n",
    "    if not _db_root_check:\n",
    "        os.makedirs(_db_root)\n",
    "    _db_path = os.path.join(_dir, _db_root)\n",
    "    os.chdir(_db_path)\n",
    "    _log.info(\"database root initialised successfully\")\n",
    "except Exception as _initialization_exception:\n",
    "    _log.critical(\"root path could not be initialised\")"
   ]
  },
  {
   "cell_type": "markdown",
   "metadata": {},
   "source": [
    "# Database Initialization"
   ]
  },
  {
   "cell_type": "code",
   "execution_count": null,
   "metadata": {},
   "outputs": [],
   "source": [
    "try:\n",
    "    _db_con = _dbsql.connect('inm_warehouse.db')\n",
    "    _log.info(\"database inm_warehouse.db initialised successfully\")\n",
    "except Exception as _db_initialization:\n",
    "    _log.critical(\"database could not be initialised\")"
   ]
  },
  {
   "cell_type": "code",
   "execution_count": null,
   "metadata": {},
   "outputs": [],
   "source": [
    "try:\n",
    "    _db_cursor = _db_con.cursor()\n",
    "    _db_cursor.execute('''CREATE TABLE warehouse\n",
    "               (device_name text not null, timestamp text not null, data text not null)''')\n",
    "    _log.info(\"database table creation successful\")\n",
    "except Exception as _db_exception:\n",
    "    _log.warning(\"database table could not be initialised: \" + str(_db_exception))"
   ]
  },
  {
   "cell_type": "markdown",
   "metadata": {},
   "source": [
    "# Get Descriptor for a node name from OM2M"
   ]
  },
  {
   "cell_type": "code",
   "execution_count": null,
   "metadata": {},
   "outputs": [],
   "source": [
    "def get_descriptor(Node_name):\n",
    "        url = \"http://127.0.0.1:5089/~/in-cse/in-name/AE-TEST/\" + Node_name + \"/Descriptor/la\"\n",
    "\n",
    "        payload={}\n",
    "        headers = {\n",
    "          'X-M2M-Origin': 'admin:admin',\n",
    "          'Accept': 'application/json'\n",
    "        }\n",
    "        response = requests.request(\"GET\", url, headers=headers, data=payload)\n",
    "        if response.status_code != 200:\n",
    "            _log.warning(\"device not found\")\n",
    "            return False, None\n",
    "        _data = eval(response.text)\n",
    "        _con = _data[\"m2m:cin\"][\"con\"].replace(\" \", \"\")\n",
    "        _con = _con.split(\"[\")[1]\n",
    "        _con = _con.split(\"]\")[0]\n",
    "        _con = _con.split(\",\")\n",
    "        _log.info(\"data retrieved from om2m\")\n",
    "        return True, _con"
   ]
  },
  {
   "cell_type": "markdown",
   "metadata": {},
   "source": [
    "# Get data from database for a given node-name"
   ]
  },
  {
   "cell_type": "code",
   "execution_count": null,
   "metadata": {},
   "outputs": [],
   "source": [
    "def get_from_db(_node_name):\n",
    "    name = \"'\" + _node_name + \"'\"\n",
    "    _data = _db_cursor.execute('SELECT * FROM warehouse where device_name =' + name)\n",
    "    _log.info(\"data retrieved from db\")\n",
    "    return _data"
   ]
  },
  {
   "cell_type": "markdown",
   "metadata": {},
   "source": [
    "# Server Class for data warehousing"
   ]
  },
  {
   "cell_type": "code",
   "execution_count": null,
   "metadata": {},
   "outputs": [],
   "source": [
    "class handler(BaseHTTPRequestHandler):\n",
    "    \n",
    "    \n",
    "    def do_GET(self):\n",
    "        \n",
    "        if \"/ngsi-ld/v1/entities/\" in self.path:\n",
    "            _node_name = self.path.split(\"/ngsi-ld/v1/entities/\")[1]\n",
    "            _parameter_list = [\"node_id\"]\n",
    "            _om2m_status = get_descriptor(_node_name)\n",
    "            \n",
    "            if not _om2m_status[0]:\n",
    "                self.send_response(404)\n",
    "                response = \"{\\\"type\\\":\\\"urn:dx:rs:general\\\",\\\"title\\\":\\\"Device Not Registered\\\",\\\"detail\\\":\\\"Device Not Registered\\\"}\"\n",
    "            \n",
    "            else:\n",
    "                _lis = []\n",
    "                self.send_response(200)\n",
    "                _parameter_list += _om2m_status[1]\n",
    "                _log.info(_parameter_list)\n",
    "                response = \"{\\\"title\\\": \\\"Successful operation\\\", \\\"type\\\": \\\"urn:dx:rs:success\\\", \\\"results\\\": [\"\n",
    "                \n",
    "                _data = get_from_db(_node_name)\n",
    "                for row in _data:\n",
    "                    _log.info(row)\n",
    "                    _lis += [row]\n",
    "                _ordered_data = list(reversed(_lis))\n",
    "                length_of_data = len(_ordered_data)\n",
    "                for row_id in range(length_of_data):\n",
    "                    _current_row = [_node_name]\n",
    "                    _current_row += eval(list(_ordered_data[row_id])[2])\n",
    "                    response += \"{\"\n",
    "                    _data_length = len(_parameter_list)\n",
    "                    \n",
    "                    for parameter_id in range(_data_length):\n",
    "                        response += \"\\\"\" + _parameter_list[parameter_id] + \"\\\":\" + \"\\\"\" + str(_current_row[parameter_id])\n",
    "                        \n",
    "                        if parameter_id == _data_length -1:\n",
    "                            response += \"\\\"\"\n",
    "                        \n",
    "                        else:\n",
    "                            response += \"\\\",\"\n",
    "                    \n",
    "                    if row_id == length_of_data -1:\n",
    "                        response += \"}\"\n",
    "                    \n",
    "                    else:\n",
    "                        response += \"},\"\n",
    "                \n",
    "                response += \"]}\"\n",
    "                _log.info(\"data formatting successsful\")\n",
    "                    \n",
    "        else:\n",
    "            _log.warning(\"url-end point not found\")\n",
    "            self.send_response(404)\n",
    "            response = \"{\\\"type\\\":\\\"urn:dx:rs:general\\\",\\\"title\\\":\\\"NotFound\\\",\\\"detail\\\":\\\"NotFound\\\"}\"\n",
    "            \n",
    "        self.send_header('Content-type','application/json')\n",
    "        self.end_headers()\n",
    "        self.wfile.write(bytes(response, \"utf8\"))\n",
    "    \n",
    "    def do_POST(self):\n",
    "        self.data_string = self.rfile.read(int(self.headers['Content-Length'])).decode(\"utf-8\")\n",
    "        self.send_response(200)\n",
    "        self.send_header('Content-type','text/html')\n",
    "        self.end_headers()\n",
    "        try:\n",
    "            var = eval(self.data_string.replace(\"false\", \"False\" ))\n",
    "            _con = eval(var[\"m2m:sgn\"][\"m2m:nev\"][\"m2m:rep\"][\"m2m:cin\"][\"con\"])\n",
    "            _lbl = var[\"m2m:sgn\"][\"m2m:nev\"][\"m2m:rep\"][\"m2m:cin\"][\"lbl\"]\n",
    "            _values = (str(_lbl[0]), str(_con[0]), str(_con))\n",
    "            _query = \"INSERT INTO warehouse VALUES \" + str(_values)\n",
    "            _db_cursor.execute(_query)\n",
    "            _log.info(\"data stored with query: \" + str(_query))\n",
    "        except Exception as ioerror:\n",
    "            _log.critical(\"data storage failed with exception: \" + str(ioerror))\n",
    "        \n",
    "        message = \"{\\\"Status\\\": 200}\"\n",
    "        self.wfile.write(bytes(message, \"utf8\"))"
   ]
  },
  {
   "cell_type": "code",
   "execution_count": null,
   "metadata": {},
   "outputs": [],
   "source": [
    "with HTTPServer(('', 5091), handler) as server:\n",
    "        server.serve_forever()"
   ]
  }
 ],
 "metadata": {
  "kernelspec": {
   "display_name": "Python 3 (ipykernel)",
   "language": "python",
   "name": "python3"
  },
  "language_info": {
   "codemirror_mode": {
    "name": "ipython",
    "version": 3
   },
   "file_extension": ".py",
   "mimetype": "text/x-python",
   "name": "python",
   "nbconvert_exporter": "python",
   "pygments_lexer": "ipython3",
   "version": "3.9.2"
  }
 },
 "nbformat": 4,
 "nbformat_minor": 1
}
