{
 "cells": [
  {
   "cell_type": "code",
   "execution_count": 1,
   "id": "4b485d1f",
   "metadata": {},
   "outputs": [],
   "source": [
    "l = \"2021-03-28 17:22:33.766467      myhostname      sshd[64673]:    Accepted publickey for ubuntu from 43.47.6.195 port 47129 ssh2\""
   ]
  },
  {
   "cell_type": "code",
   "execution_count": 2,
   "id": "56e6f1df",
   "metadata": {},
   "outputs": [
    {
     "data": {
      "text/plain": [
       "['2021-03-28',\n",
       " '17:22:33.766467',\n",
       " 'myhostname',\n",
       " 'sshd[64673]:',\n",
       " 'Accepted',\n",
       " 'publickey',\n",
       " 'for',\n",
       " 'ubuntu',\n",
       " 'from',\n",
       " '43.47.6.195',\n",
       " 'port',\n",
       " '47129',\n",
       " 'ssh2']"
      ]
     },
     "execution_count": 2,
     "metadata": {},
     "output_type": "execute_result"
    }
   ],
   "source": [
    "l.split()"
   ]
  },
  {
   "cell_type": "code",
   "execution_count": null,
   "id": "6f2e497f",
   "metadata": {},
   "outputs": [],
   "source": [
    "try:\n",
    "    val = dic[l[7]]\n",
    "    dic[l[7]] = [val[0], val[1]+1]\n",
    "except:\n",
    "    dic[l[7]] = [l[9], 1]\n"
   ]
  }
 ],
 "metadata": {
  "kernelspec": {
   "display_name": "Python 3 (ipykernel)",
   "language": "python",
   "name": "python3"
  },
  "language_info": {
   "codemirror_mode": {
    "name": "ipython",
    "version": 3
   },
   "file_extension": ".py",
   "mimetype": "text/x-python",
   "name": "python",
   "nbconvert_exporter": "python",
   "pygments_lexer": "ipython3",
   "version": "3.9.2"
  }
 },
 "nbformat": 4,
 "nbformat_minor": 5
}
